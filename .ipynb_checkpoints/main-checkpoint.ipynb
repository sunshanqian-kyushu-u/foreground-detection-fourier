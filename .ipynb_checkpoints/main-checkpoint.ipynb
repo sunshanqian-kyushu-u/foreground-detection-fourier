{
 "cells": [
  {
   "cell_type": "markdown",
   "id": "d2136963",
   "metadata": {},
   "source": [
    "This research is about a discrete Fourier transform-based moving object detection method"
   ]
  },
  {
   "cell_type": "markdown",
   "id": "2c695d14",
   "metadata": {},
   "source": [
    "## Table of contents\n",
    "- [How to use](#anchor1)\n",
    "- [paper link](paper/A_Moving_Object_Detection_Method_Based_on_Discrete_Fourier_Transform.pdf)"
   ]
  },
  {
   "cell_type": "markdown",
   "id": "bc499df2",
   "metadata": {},
   "source": [
    "### How to use <a name=\"anchor1\"></a>\n",
    "Put your images in a folder, and use \n",
    "```\n",
    "get_foreground(folder_path, output_path)\n",
    "```\n",
    "function, in which 'folder_path' is images path, 'output_path' to put output images"
   ]
  },
  {
   "cell_type": "code",
   "execution_count": 1,
   "id": "a5b436d7",
   "metadata": {},
   "outputs": [],
   "source": [
    "from os import listdir\n",
    "from PIL import Image\n",
    "import numpy as np\n",
    "\n",
    "def get_foreground_average(folder_path, output_path):\n",
    "    \n",
    "    # read image name\n",
    "    img_name_list = []\n",
    "    for img_name in listdir(folder_path):\n",
    "        img_name_list.append(str(img_name))\n",
    "#     print(img_name_list)\n",
    "    \n",
    "    # read image\n",
    "    img_list = []\n",
    "    for img_name in img_name_list:\n",
    "        img_list.append(np.asarray(Image.open(folder_path + img_name).convert('L'))) # convert to gray-scale\n",
    "#     print(img_list[0].shape)\n",
    "\n",
    "    # calculate average image\n",
    "    img_array = np.asarray(img_list, np.float64) # convert list to array\n",
    "#     print(img_array.shape) # (11, 480, 1140)\n",
    "    average_img = np.mean(img_array, axis = 0)\n",
    "#     print(average_img.shape) #  (480, 1140)\n",
    "#     print(average_img)\n",
    "    \n",
    "    # minus average image from original image\n",
    "    img_array -= average_img\n",
    "#     print(img_array)\n",
    "    img_array = np.abs(img_array)\n",
    "#     print(img_array)\n",
    "    img_array = np.around(img_array).astype(np.uint8)\n",
    "#     print(img_array)\n",
    "    \n",
    "    # output img\n",
    "    for i in range(len(img_array)):\n",
    "        Image.fromarray(img_array[i]).save(output_path + img_name_list[i], compress_level = 0)"
   ]
  },
  {
   "cell_type": "code",
   "execution_count": 2,
   "id": "29b602c4",
   "metadata": {},
   "outputs": [],
   "source": [
    "test_img_path = 'test_img/'\n",
    "output_path = 'output_img/'\n",
    "get_foreground_average(test_img_path, output_path)"
   ]
  }
 ],
 "metadata": {
  "kernelspec": {
   "display_name": "Python 3 (ipykernel)",
   "language": "python",
   "name": "python3"
  },
  "language_info": {
   "codemirror_mode": {
    "name": "ipython",
    "version": 3
   },
   "file_extension": ".py",
   "mimetype": "text/x-python",
   "name": "python",
   "nbconvert_exporter": "python",
   "pygments_lexer": "ipython3",
   "version": "3.9.13"
  }
 },
 "nbformat": 4,
 "nbformat_minor": 5
}
