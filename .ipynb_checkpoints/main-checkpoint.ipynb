{
 "cells": [
  {
   "cell_type": "markdown",
   "id": "d2136963",
   "metadata": {},
   "source": [
    "This research is about a discrete Fourier transform-based moving object detection method"
   ]
  },
  {
   "cell_type": "markdown",
   "id": "2c695d14",
   "metadata": {},
   "source": [
    "## Table of contents\n",
    "- [Project structure](#anchor1)\n",
    "- [How to use](#anchor2)\n",
    "- [Use cases](#anchor3)\n",
    "- [paper link](paper/A_Moving_Object_Detection_Method_Based_on_Discrete_Fourier_Transform.pdf)"
   ]
  },
  {
   "cell_type": "markdown",
   "id": "bc499df2",
   "metadata": {},
   "source": [
    "### Project structure <a name=\"anchor1\"></a>\n",
    "There are four folders: \n",
    "- test_img\n",
    "- foreground_img\n",
    "- binarization_img\n",
    "- paper\n",
    "\n",
    "*'test_img'* contains 11 test images in which *'000000.jpg'* is the background image; \n",
    "\n",
    "*'foreground_img'* is for saving images with the foreground; \n",
    "\n",
    "*'binarization_img'* contains the binarized images; \n",
    "\n",
    "Related thesis is placed in the *'paper'* folder. \n",
    "### How to use <a name=\"anchor2\"></a>\n",
    "Put your images in a folder, and use \n",
    "```\n",
    "get_foreground(folder_path, output_path, threshold=-1)\n",
    "```\n",
    "function, in which `folder_path` is images path, `output_path` to put output images. \n",
    "\n",
    "And you can also adjust the `threshold` manually and apply it to binarization. "
   ]
  },
  {
   "cell_type": "code",
   "execution_count": 8,
   "id": "a5b436d7",
   "metadata": {},
   "outputs": [],
   "source": [
    "from os import listdir\n",
    "from PIL import Image\n",
    "import numpy as np\n",
    "import cv2\n",
    "\n",
    "def get_foreground_average(folder_path, output_path, threshold=-1):\n",
    "    \n",
    "    ###################\n",
    "    # read image name #\n",
    "    ###################\n",
    "    img_name_list = []\n",
    "    for img_name in listdir(folder_path):\n",
    "        img_name_list.append(str(img_name))\n",
    "#     print(img_name_list)\n",
    "    \n",
    "    ##############\n",
    "    # read image #\n",
    "    ##############\n",
    "    img_list = []\n",
    "    for img_name in img_name_list:\n",
    "        img_list.append(np.asarray(Image.open(folder_path + img_name).convert('L'))) # convert to gray-scale\n",
    "#     print(img_list[0].shape)\n",
    "\n",
    "    ###########################\n",
    "    # calculate average image #\n",
    "    ###########################\n",
    "    img_array = np.asarray(img_list, np.float64) # convert list to array\n",
    "#     print(img_array.shape) # (11, 480, 1140)\n",
    "    average_img = np.mean(img_array, axis = 0)\n",
    "#     print(average_img.shape) #  (480, 1140)\n",
    "#     print(average_img)\n",
    "    \n",
    "    ###########################################\n",
    "    # minus average image from original image #\n",
    "    ###########################################\n",
    "    img_array -= average_img\n",
    "#     print(img_array)\n",
    "    img_array = np.abs(img_array)\n",
    "#     print(img_array)\n",
    "    img_array = np.around(img_array).astype(np.uint8)\n",
    "#     print(img_array)\n",
    "\n",
    "    ################\n",
    "    # binarization #\n",
    "    ################\n",
    "    if threshold >= 0:\n",
    "        for i in range(len(img_array)):\n",
    "            _, img_array[i] = cv2.threshold(img_array[i], threshold, 255, cv2.THRESH_BINARY)\n",
    "    \n",
    "    ##############\n",
    "    # output img #\n",
    "    ##############\n",
    "    for i in range(len(img_array)):\n",
    "        Image.fromarray(img_array[i]).save(output_path + img_name_list[i], compress_level=0)"
   ]
  },
  {
   "cell_type": "markdown",
   "id": "2f3f3a0f",
   "metadata": {},
   "source": [
    "### Use cases <a name=\"anchor3\"></a>"
   ]
  },
  {
   "cell_type": "code",
   "execution_count": 14,
   "id": "29b602c4",
   "metadata": {},
   "outputs": [],
   "source": [
    "test_img_path = 'test_img/'\n",
    "foreground_img_path = 'foreground_img/'\n",
    "binarization_img_path = 'binarization_img/'\n",
    "\n",
    "##################################\n",
    "# get images with the foreground #\n",
    "##################################\n",
    "get_foreground_average(test_img_path, foreground_img_path)\n",
    "\n",
    "############################\n",
    "# get the binarized images #\n",
    "############################\n",
    "get_foreground_average(test_img_path, binarization_img_path, threshold=30)"
   ]
  }
 ],
 "metadata": {
  "kernelspec": {
   "display_name": "Python 3 (ipykernel)",
   "language": "python",
   "name": "python3"
  },
  "language_info": {
   "codemirror_mode": {
    "name": "ipython",
    "version": 3
   },
   "file_extension": ".py",
   "mimetype": "text/x-python",
   "name": "python",
   "nbconvert_exporter": "python",
   "pygments_lexer": "ipython3",
   "version": "3.9.13"
  }
 },
 "nbformat": 4,
 "nbformat_minor": 5
}
